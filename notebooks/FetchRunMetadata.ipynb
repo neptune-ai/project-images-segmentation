{
 "cells": [
  {
   "cell_type": "code",
   "execution_count": null,
   "id": "42406bfd-ce1f-498a-85e6-7c4242b9a736",
   "metadata": {},
   "outputs": [],
   "source": [
    "import os\n",
    "\n",
    "import matplotlib.pyplot as plt\n",
    "import neptune.new as neptune\n",
    "from skimage.io import imread"
   ]
  },
  {
   "cell_type": "markdown",
   "id": "69f606be-21ab-4aa2-bb33-a88f3aece7ba",
   "metadata": {},
   "source": [
    "Get the best `run-id`"
   ]
  },
  {
   "cell_type": "code",
   "execution_count": null,
   "id": "1c45da13-f3e8-48c6-b280-52587cdf4fc5",
   "metadata": {},
   "outputs": [],
   "source": [
    "project = neptune.get_project(name=\"common/project-images-segmentation\")\n",
    "\n",
    "# (neptune) find best run for given data version\n",
    "best_run_df = project.fetch_runs_table(tag=\"best\").to_pandas()\n",
    "best_run_id = best_run_df[\"sys/id\"].values[0]"
   ]
  },
  {
   "cell_type": "markdown",
   "id": "f2e9599b-43be-40ae-807f-cb5ec2b8a1c0",
   "metadata": {},
   "source": [
    "Load the best run in `read-only` model"
   ]
  },
  {
   "cell_type": "code",
   "execution_count": null,
   "id": "195f329a-843f-4b22-b218-f2d07f0fec3a",
   "metadata": {},
   "outputs": [],
   "source": [
    "run = neptune.init_run(\n",
    "    project=\"common/project-images-segmentation\",\n",
    "    source_files=None,\n",
    "    run=best_run_id,\n",
    "    mode=\"read-only\",\n",
    ")"
   ]
  },
  {
   "cell_type": "markdown",
   "id": "e38dd3f5-449b-4f71-bac1-4d807b7b8119",
   "metadata": {},
   "source": [
    "Fetch Train Loss for the run and plot it"
   ]
  },
  {
   "cell_type": "code",
   "execution_count": null,
   "id": "32c75cc8-ae7a-4c84-80db-3368825538ee",
   "metadata": {},
   "outputs": [],
   "source": [
    "train_loss = run[\"training/metrics/train_dice_loss\"]\n",
    "train_loss_df = train_loss.fetch_values()\n",
    "plt.plot(train_loss_df.step, train_loss_df.value)"
   ]
  },
  {
   "cell_type": "markdown",
   "id": "3c26ae75-23bc-411e-ae21-9839407e6279",
   "metadata": {},
   "source": [
    "Fetch Hyperparams"
   ]
  },
  {
   "cell_type": "code",
   "execution_count": null,
   "id": "2c63ccdd-e292-420d-b443-c6154665037e",
   "metadata": {},
   "outputs": [],
   "source": [
    "hyper_params = run[\"training/hyper_params\"]\n",
    "print(hyper_params.fetch())"
   ]
  },
  {
   "cell_type": "markdown",
   "id": "9d73d521-e5a9-4faa-9bb5-825d7396e7af",
   "metadata": {
    "tags": []
   },
   "source": [
    "Plot evolution of Model Prediction on a Validation Image"
   ]
  },
  {
   "cell_type": "code",
   "execution_count": null,
   "id": "287bb1d3-d1fa-426b-b78b-994e27c8398e",
   "metadata": {},
   "outputs": [],
   "source": [
    "validation_pred_evolve_1 = run[\"training/validation_prediction_progression/TCGA_CS_4944_20010208_2\"]\n",
    "download_dir = \"valid_mask_evolution\"\n",
    "validation_pred_evolve_1.download(download_dir)\n",
    "\n",
    "# plot only 1st 5\n",
    "files = os.listdir(download_dir)[:5]\n",
    "_, ax = plt.subplots(1, len(files), figsize=(12, 12))\n",
    "\n",
    "for idx, img_file in enumerate(files):\n",
    "    ax[idx].imshow(imread(f\"{download_dir}/{img_file}\"))"
   ]
  },
  {
   "cell_type": "code",
   "execution_count": null,
   "id": "c78d688e-af1f-4165-904e-5ee32eab50d7",
   "metadata": {},
   "outputs": [],
   "source": [
    "validation_pred_evolve_1 = run[\"training/validation_prediction_progression/TCGA_DU_6404_19850629_36\"]\n",
    "download_dir = \"valid_mask_evolution_2\"\n",
    "validation_pred_evolve_1.download(download_dir)\n",
    "\n",
    "# plot only 1st 5\n",
    "files = os.listdir(download_dir)[:5]\n",
    "_, ax = plt.subplots(1, len(files), figsize=(12, 12))\n",
    "\n",
    "for idx, img_file in enumerate(files):\n",
    "    ax[idx].imshow(imread(f\"{download_dir}/{img_file}\"))"
   ]
  }
 ],
 "metadata": {
  "kernelspec": {
   "display_name": "Python 3 (ipykernel)",
   "language": "python",
   "name": "python3"
  },
  "language_info": {
   "codemirror_mode": {
    "name": "ipython",
    "version": 3
   },
   "file_extension": ".py",
   "mimetype": "text/x-python",
   "name": "python",
   "nbconvert_exporter": "python",
   "pygments_lexer": "ipython3",
   "version": "3.10.5"
  },
  "neptune": {
   "notebookId": "96aa97ac-0997-44a2-b8a2-a3452feaa830",
   "projectVersion": 2
  },
  "vscode": {
   "interpreter": {
    "hash": "16ee3a2516734ab3485872883d44962239593c2775a4155ecc93f73c5ffbfccf"
   }
  }
 },
 "nbformat": 4,
 "nbformat_minor": 5
}
