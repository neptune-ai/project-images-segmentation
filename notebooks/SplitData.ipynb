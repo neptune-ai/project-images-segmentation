{
 "cells": [
  {
   "cell_type": "code",
   "execution_count": null,
   "metadata": {},
   "outputs": [],
   "source": [
    "import glob\n",
    "import os\n",
    "import random\n",
    "\n",
    "import matplotlib.pyplot as plt\n",
    "import numpy as np\n",
    "import pandas as pd\n",
    "import torch\n",
    "import tqdm\n",
    "from skimage.io import imread\n",
    "from torch.utils.data import Dataset"
   ]
  },
  {
   "cell_type": "code",
   "execution_count": null,
   "metadata": {},
   "outputs": [],
   "source": [
    "def gray2rgb(image):\n",
    "    w, h = image.shape\n",
    "    image += np.abs(np.min(image))\n",
    "    image_max = np.abs(np.max(image))\n",
    "    if image_max > 0:\n",
    "        image /= image_max\n",
    "    ret = np.empty((w, h, 3), dtype=np.uint8)\n",
    "    ret[:, :, 2] = ret[:, :, 1] = ret[:, :, 0] = image * 255\n",
    "    return ret\n",
    "\n",
    "\n",
    "def outline(image, mask, color):\n",
    "    mask = np.round(mask)\n",
    "    yy, xx = np.nonzero(mask)\n",
    "    for y, x in zip(yy, xx):\n",
    "        if 0.0 < np.mean(mask[max(0, y - 1) : y + 2, max(0, x - 1) : x + 2]) < 1.0:\n",
    "            image[max(0, y) : y + 1, max(0, x) : x + 1] = color\n",
    "    return image\n",
    "\n",
    "\n",
    "def log_images(x, y_true, y_pred, channel=1):\n",
    "    images = []\n",
    "    x_np = x.cpu().numpy()[:, channel]\n",
    "    y_true_np = y_true.cpu().numpy()[:, 0]\n",
    "    y_pred_np = y_pred.cpu().numpy()[:, 0]\n",
    "    for i in range(x_np.shape[0]):\n",
    "        image = gray2rgb(np.squeeze(x_np[i]))\n",
    "        image = outline(image, y_pred_np[i], color=[255, 0, 0])\n",
    "        image = outline(image, y_true_np[i], color=[0, 255, 0])\n",
    "        images.append(image)\n",
    "    return images"
   ]
  },
  {
   "cell_type": "markdown",
   "metadata": {},
   "source": [
    "Let's find images with abnormalities!"
   ]
  },
  {
   "cell_type": "code",
   "execution_count": null,
   "metadata": {},
   "outputs": [],
   "source": [
    "images_with_abnormalities = []\n",
    "masks_with_abnormalities = []\n",
    "for i in range(1, 24):\n",
    "    mask = imread(f\"../lgg-mri-segmentation/kaggle_3m/TCGA_CS_4941_19960909/TCGA_CS_4941_19960909_{i}_mask.tif\")\n",
    "    image = imread(f\"../lgg-mri-segmentation/kaggle_3m/TCGA_CS_4941_19960909/TCGA_CS_4941_19960909_{i}.tif\")\n",
    "    if mask.sum() > 0:  # Check if there is some segment in mask\n",
    "        images_with_abnormalities.append(image)\n",
    "        masks_with_abnormalities.append(mask)"
   ]
  },
  {
   "cell_type": "markdown",
   "metadata": {},
   "source": [
    "Print `mask` on original image as an outline"
   ]
  },
  {
   "cell_type": "code",
   "execution_count": null,
   "metadata": {},
   "outputs": [],
   "source": [
    "max_plots = 10\n",
    "_, ax = plt.subplots(len(images_with_abnormalities[:max_plots]), 1, figsize=(5, 25))\n",
    "\n",
    "for idx, (im, mask) in enumerate(zip(images_with_abnormalities[:max_plots], masks_with_abnormalities[:max_plots])):\n",
    "    im_t = torch.tensor(im)\n",
    "    mask_t = torch.tensor(mask).unsqueeze(-1)\n",
    "    # fix dimensions (C, H, W)\n",
    "    im_t = im_t.permute(2, 0, 1)\n",
    "    mask_t = mask_t.permute(2, 0, 1)\n",
    "    im_t = im_t.unsqueeze(0)\n",
    "    mask_t = mask_t.unsqueeze(0)\n",
    "\n",
    "    im_t = im_t.to(torch.float) / 255.0\n",
    "    mask_t = mask_t.to(torch.float) / 255.0\n",
    "    outlined_img = log_images(im_t, mask_t, mask_t)\n",
    "\n",
    "    ax[idx].imshow(outlined_img[0])"
   ]
  },
  {
   "cell_type": "code",
   "execution_count": null,
   "metadata": {},
   "outputs": [],
   "source": [
    "df = pd.read_csv(\"../kaggle_3m/data.csv\")"
   ]
  },
  {
   "cell_type": "code",
   "execution_count": null,
   "metadata": {},
   "outputs": [],
   "source": [
    "df.head()"
   ]
  },
  {
   "cell_type": "code",
   "execution_count": null,
   "metadata": {},
   "outputs": [],
   "source": [
    "seed = 42\n",
    "patient_folders = list(\n",
    "    filter(\n",
    "        lambda name: name.name not in [\"README.md\", \"data.csv\"],\n",
    "        os.scandir(\"../kaggle_3m\"),\n",
    "    )\n",
    ")\n",
    "random.seed(seed)\n",
    "validation_cases = 10\n",
    "validation_patients = random.sample(patient_folders, k=validation_cases)"
   ]
  },
  {
   "cell_type": "code",
   "execution_count": null,
   "metadata": {},
   "outputs": [],
   "source": [
    "validation_patients"
   ]
  },
  {
   "cell_type": "code",
   "execution_count": null,
   "metadata": {},
   "outputs": [],
   "source": [
    "os.makedirs(\"./data/valid\", exist_ok=True)\n",
    "os.makedirs(\"./data/train\", exist_ok=True)"
   ]
  },
  {
   "cell_type": "code",
   "execution_count": null,
   "metadata": {},
   "outputs": [],
   "source": [
    "from distutils.dir_util import copy_tree\n",
    "\n",
    "for validation_patient in validation_patients:\n",
    "    copy_tree(validation_patient.path, f\"./data/valid/{validation_patient.name}\")"
   ]
  },
  {
   "cell_type": "code",
   "execution_count": null,
   "metadata": {},
   "outputs": [],
   "source": [
    "cnt = 0\n",
    "for train_patient in patient_folders:\n",
    "    if train_patient not in validation_patients:\n",
    "        cnt += 1\n",
    "        copy_tree(train_patient.path, f\"./data/train/{train_patient.name}\")"
   ]
  },
  {
   "cell_type": "code",
   "execution_count": null,
   "metadata": {},
   "outputs": [],
   "source": []
  }
 ],
 "metadata": {
  "kernelspec": {
   "display_name": "Python 3 (ipykernel)",
   "language": "python",
   "name": "python3"
  },
  "language_info": {
   "codemirror_mode": {
    "name": "ipython",
    "version": 3
   },
   "file_extension": ".py",
   "mimetype": "text/x-python",
   "name": "python",
   "nbconvert_exporter": "python",
   "pygments_lexer": "ipython3",
   "version": "3.10.5"
  },
  "vscode": {
   "interpreter": {
    "hash": "16ee3a2516734ab3485872883d44962239593c2775a4155ecc93f73c5ffbfccf"
   }
  }
 },
 "nbformat": 4,
 "nbformat_minor": 4
}
