{
 "cells": [
  {
   "cell_type": "code",
   "execution_count": null,
   "metadata": {},
   "outputs": [],
   "source": [
    "import os\n",
    "import neptune"
   ]
  },
  {
   "attachments": {},
   "cell_type": "markdown",
   "metadata": {},
   "source": [
    "Add Project Level Meta-data"
   ]
  },
  {
   "cell_type": "code",
   "execution_count": null,
   "metadata": {},
   "outputs": [],
   "source": [
    "project = neptune.init_project()\n",
    "\n",
    "project[\"general/name\"] = \"Brain MRI Segmentation\"\n",
    "project[\"general/brief\"] = \"Brain MRI Segmentation\"\n",
    "\n",
    "project[\"data/v1/train\"].track_files(\"s3://neptune-examples/data/brain-mri-dataset/v1/train\")\n",
    "project[\"data/v1/valid\"].track_files(\"s3://neptune-examples/data/brain-mri-dataset/v1/valid\")\n",
    "\n",
    "project[\"data/v2/train\"].track_files(\"s3://neptune-examples/data/brain-mri-dataset/v2/train\")\n",
    "project[\"data/v2/valid\"].track_files(\"s3://neptune-examples/data/brain-mri-dataset/v2/valid\")\n",
    "\n",
    "project[\"data/v3/train\"].track_files(\"s3://neptune-examples/data/brain-mri-dataset/v3/train\")\n",
    "project[\"data/v3/valid\"].track_files(\"s3://neptune-examples/data/brain-mri-dataset/v3/valid\")"
   ]
  },
  {
   "cell_type": "code",
   "execution_count": null,
   "metadata": {},
   "outputs": [],
   "source": [
    "project.stop()"
   ]
  },
  {
   "attachments": {},
   "cell_type": "markdown",
   "metadata": {},
   "source": [
    "Initialize model in the Model Registry"
   ]
  },
  {
   "cell_type": "code",
   "execution_count": 8,
   "metadata": {},
   "outputs": [
    {
     "name": "stdout",
     "output_type": "stream",
     "text": [
      "https://app.neptune.ai/common/project-images-segmentation-update/m/IMG-MOD\n",
      "Remember to stop your model once you’ve finished logging your metadata (https://docs.neptune.ai/api/model#stop). It will be stopped automatically only when the notebook kernel/interactive console is terminated.\n"
     ]
    }
   ],
   "source": [
    "model = neptune.init_model(name=\"Prediction model\", key=\"MOD\", project=\"common/project-images-segmentation\")"
   ]
  },
  {
   "cell_type": "code",
   "execution_count": 9,
   "metadata": {},
   "outputs": [
    {
     "name": "stdout",
     "output_type": "stream",
     "text": [
      "Shutting down background jobs, please wait a moment...\n",
      "Done!\n",
      "All 0 operations synced, thanks for waiting!\n",
      "Explore the metadata in the Neptune app:\n",
      "https://app.neptune.ai/common/project-images-segmentation-update/m/IMG-MOD/metadata\n"
     ]
    }
   ],
   "source": [
    "model.stop()"
   ]
  },
  {
   "cell_type": "code",
   "execution_count": null,
   "metadata": {},
   "outputs": [],
   "source": []
  }
 ],
 "metadata": {
  "kernelspec": {
   "display_name": "base",
   "language": "python",
   "name": "python3"
  },
  "language_info": {
   "codemirror_mode": {
    "name": "ipython",
    "version": 3
   },
   "file_extension": ".py",
   "mimetype": "text/x-python",
   "name": "python",
   "nbconvert_exporter": "python",
   "pygments_lexer": "ipython3",
   "version": "3.10.11"
  },
  "vscode": {
   "interpreter": {
    "hash": "d4d1e4263499bec80672ea0156c357c1ee493ec2b1c70f0acce89fc37c4a6abe"
   }
  }
 },
 "nbformat": 4,
 "nbformat_minor": 4
}
