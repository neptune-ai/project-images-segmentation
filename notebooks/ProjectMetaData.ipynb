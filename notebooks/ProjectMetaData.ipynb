{
 "cells": [
  {
   "cell_type": "code",
   "execution_count": null,
   "metadata": {},
   "outputs": [],
   "source": [
    "import neptune.new as neptune"
   ]
  },
  {
   "cell_type": "markdown",
   "metadata": {},
   "source": [
    "Add Project Level Meta-data"
   ]
  },
  {
   "cell_type": "code",
   "execution_count": null,
   "metadata": {},
   "outputs": [],
   "source": [
    "project = neptune.init_project(name=\"common/project-images-segmentation\")\n",
    "\n",
    "project[\"brief\"] = \"Brain MRI Segmentation\"\n",
    "project[\"metric\"] = \"dice coefficient\"\n",
    "project[\"loss\"] = \"dice loss\"\n",
    "\n",
    "project[\"data/v1/train\"].track_files(\"s3://neptune-examples/data/brain-mri-dataset/v1/train\")\n",
    "project[\"data/v1/valid\"].track_files(\"s3://neptune-examples/data/brain-mri-dataset/v1/valid\")\n",
    "\n",
    "project[\"data/v2/train\"].track_files(\"s3://neptune-examples/data/brain-mri-dataset/v2/train\")\n",
    "project[\"data/v2/valid\"].track_files(\"s3://neptune-examples/data/brain-mri-dataset/v2/valid\")\n",
    "\n",
    "project[\"data/v3/train\"].track_files(\"s3://neptune-examples/data/brain-mri-dataset/v3/train\")\n",
    "project[\"data/v3/valid\"].track_files(\"s3://neptune-examples/data/brain-mri-dataset/v3/valid\")"
   ]
  },
  {
   "cell_type": "code",
   "execution_count": null,
   "metadata": {},
   "outputs": [],
   "source": [
    "project.stop()"
   ]
  },
  {
   "cell_type": "markdown",
   "metadata": {},
   "source": [
    "Init Model Registry"
   ]
  },
  {
   "cell_type": "code",
   "execution_count": null,
   "metadata": {},
   "outputs": [],
   "source": [
    "import neptune.new as neptune\n",
    "\n",
    "model = neptune.init_model(name=\"Prediction model\", key=\"MOD\", project=\"common/project-images-segmentation\")"
   ]
  }
 ],
 "metadata": {
  "interpreter": {
   "hash": "d4d1e4263499bec80672ea0156c357c1ee493ec2b1c70f0acce89fc37c4a6abe"
  },
  "kernelspec": {
   "display_name": "Python 3 (ipykernel)",
   "language": "python",
   "name": "python3"
  },
  "language_info": {
   "codemirror_mode": {
    "name": "ipython",
    "version": 3
   },
   "file_extension": ".py",
   "mimetype": "text/x-python",
   "name": "python",
   "nbconvert_exporter": "python",
   "pygments_lexer": "ipython3",
   "version": "3.10.5"
  }
 },
 "nbformat": 4,
 "nbformat_minor": 4
}
