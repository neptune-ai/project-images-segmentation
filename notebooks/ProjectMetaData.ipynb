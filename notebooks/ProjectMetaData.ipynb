{
 "cells": [
  {
   "cell_type": "code",
   "execution_count": 1,
   "metadata": {},
   "outputs": [],
   "source": [
    "import neptune.new as neptune"
   ]
  },
  {
   "cell_type": "markdown",
   "metadata": {},
   "source": [
    "Add Project Level Meta-data"
   ]
  },
  {
   "cell_type": "code",
   "execution_count": 11,
   "metadata": {},
   "outputs": [
    {
     "name": "stdout",
     "output_type": "stream",
     "text": [
      "https://app.neptune.ai/common/Pytorch-ImageSegmentation-Unet/\n",
      "Remember to stop your project once you’ve finished logging your metadata (https://docs.neptune.ai/api-reference/project#.stop). It will be stopped automatically only when the notebook kernel/interactive console is terminated.\n"
     ]
    }
   ],
   "source": [
    "project = neptune.init_project(name=\"common/Pytorch-ImageSegmentation-Unet\")\n",
    "\n",
    "project[\"brief\"] = \"Brain MRI Segmentation\"\n",
    "project[\"metric\"] = \"dice coefficient\"\n",
    "project[\"loss\"] = \"dice loss\"\n",
    "\n",
    "project[\"SplitData.ipynb\"].upload(\"notebooks/SplitData.ipynb\")\n",
    "\n",
    "project[\"data/v1/train\"].track_files(\n",
    "    \"s3://neptune-examples/data/brain-mri-dataset/v1/train\"\n",
    ")\n",
    "project[\"data/v1/valid\"].track_files(\n",
    "    \"s3://neptune-examples/data/brain-mri-dataset/v1/valid\"\n",
    ")\n",
    "\n",
    "project[\"data/v2/train\"].track_files(\n",
    "    \"s3://neptune-examples/data/brain-mri-dataset/v2/train\"\n",
    ")\n",
    "project[\"data/v2/valid\"].track_files(\n",
    "    \"s3://neptune-examples/data/brain-mri-dataset/v2/valid\"\n",
    ")\n",
    "\n",
    "project[\"data/v3/train\"].track_files(\n",
    "    \"s3://neptune-examples/data/brain-mri-dataset/v3/train\"\n",
    ")\n",
    "project[\"data/v3/valid\"].track_files(\n",
    "    \"s3://neptune-examples/data/brain-mri-dataset/v3/valid\"\n",
    ")"
   ]
  },
  {
   "cell_type": "code",
   "execution_count": 12,
   "metadata": {},
   "outputs": [
    {
     "name": "stdout",
     "output_type": "stream",
     "text": [
      "Shutting down background jobs, please wait a moment...\n",
      "Done!\n",
      "Waiting for the remaining 10 operations to synchronize with Neptune. Do not kill this process.\n",
      "Still waiting for the remaining 10 operations (0.00% done). Please wait.\n"
     ]
    },
    {
     "name": "stderr",
     "output_type": "stream",
     "text": [
      "Error occurred during asynchronous operation processing: Cannot upload file /home/brain-segmentation-pytorch/notebooks/notebooks/SplitData.ipynb: Path not found or is a not a file.\n"
     ]
    },
    {
     "name": "stdout",
     "output_type": "stream",
     "text": [
      "All 10 operations synced, thanks for waiting!\n",
      "Explore the metadata in the Neptune app:\n",
      "https://app.neptune.ai/common/Pytorch-ImageSegmentation-Unet/metadata\n"
     ]
    }
   ],
   "source": [
    "project.stop()"
   ]
  },
  {
   "cell_type": "markdown",
   "metadata": {},
   "source": [
    "Init Model Registry"
   ]
  },
  {
   "cell_type": "code",
   "execution_count": 2,
   "metadata": {},
   "outputs": [
    {
     "name": "stdout",
     "output_type": "stream",
     "text": [
      "https://app.neptune.ai/common/Pytorch-ImageSegmentation-Unet/m/PYTOR3-MOD\n",
      "Remember to stop your model once you’ve finished logging your metadata (https://docs.neptune.ai/api-reference/model#.stop). It will be stopped automatically only when the notebook kernel/interactive console is terminated.\n"
     ]
    }
   ],
   "source": [
    "import neptune.new as neptune\n",
    "\n",
    "model = neptune.init_model(\n",
    "    name=\"Prediction model\", key=\"MOD\", project=\"common/Pytorch-ImageSegmentation-Unet\"\n",
    ")"
   ]
  },
  {
   "cell_type": "code",
   "execution_count": null,
   "metadata": {},
   "outputs": [],
   "source": []
  }
 ],
 "metadata": {
  "interpreter": {
   "hash": "d4d1e4263499bec80672ea0156c357c1ee493ec2b1c70f0acce89fc37c4a6abe"
  },
  "kernelspec": {
   "display_name": "Python 3.8.12 ('base')",
   "language": "python",
   "name": "python3"
  },
  "language_info": {
   "codemirror_mode": {
    "name": "ipython",
    "version": 3
   },
   "file_extension": ".py",
   "mimetype": "text/x-python",
   "name": "python",
   "nbconvert_exporter": "python",
   "pygments_lexer": "ipython3",
   "version": "3.8.12"
  },
  "orig_nbformat": 4
 },
 "nbformat": 4,
 "nbformat_minor": 2
}
